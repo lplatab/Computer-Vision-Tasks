{
  "nbformat": 4,
  "nbformat_minor": 0,
  "metadata": {
    "colab": {
      "provenance": []
    },
    "kernelspec": {
      "name": "python3",
      "display_name": "Python 3"
    },
    "language_info": {
      "name": "python"
    }
  },
  "cells": [
    {
      "cell_type": "markdown",
      "source": [
        "#The code here uses formulas from the following web site\n",
        "\n",
        "https://es.wikipedia.org/wiki/YUV\n",
        "\n",
        "Using this matrix some negative values are obtained"
      ],
      "metadata": {
        "id": "LUiz7YbmvwnD"
      }
    },
    {
      "cell_type": "code",
      "execution_count": 48,
      "metadata": {
        "colab": {
          "base_uri": "https://localhost:8080/"
        },
        "id": "5jYvzqUKXvQ2",
        "outputId": "bc8037b3-6bbd-42fb-e55c-51ae59ac672d"
      },
      "outputs": [
        {
          "output_type": "stream",
          "name": "stdout",
          "text": [
            "(76.24499999999999, -37.485, 156.825)\n",
            "(150.105, -59.084999999999994, 92.02499999999998)\n"
          ]
        }
      ],
      "source": [
        "import numpy as np\n",
        "\n",
        "def RGB_YUV1(r, g, b):    #RGB TO YUV\n",
        "    r1 = np.float64(r)  \n",
        "    g1 = np.float64(g)\n",
        "    b1 = np.float64(b)\n",
        "\n",
        "    y = 0.299*r1 + 0.587*g1 + 0.114*b1\n",
        "    u = - 0.147*r1 - 0.289*g1 + 0.436*b1\n",
        "    v = 0.615*r1 - 0.515*g1 - 0.100*b1\n",
        "    \n",
        "    return y, u, v\n",
        "            \n",
        "print(RGB_YUV1(255, 0, 0))\n",
        "print(RGB_YUV1(255, 120, 30))"
      ]
    },
    {
      "cell_type": "code",
      "source": [
        "def YUV_RGB1(y, u, v):    #YUV TO RGB\n",
        "    y1 = np.float64(y)\n",
        "    u1 = np.float64(u)\n",
        "    v1 = np.float64(v)\n",
        "\n",
        "    r = y1 + 1.14*v1\n",
        "    g = y1 -0.396*u1 - 0.581*v1\n",
        "    b = y1 +2.029*u1\n",
        "\n",
        "    return r, g, b\n",
        "\n",
        "print (YUV_RGB1(76, -37, 156))\n",
        "print (YUV_RGB1(150, -59, 92))"
      ],
      "metadata": {
        "id": "G1iwr4o3YC-x",
        "colab": {
          "base_uri": "https://localhost:8080/"
        },
        "outputId": "75842719-030c-4c51-93a9-5bba66cc4b11"
      },
      "execution_count": 49,
      "outputs": [
        {
          "output_type": "stream",
          "name": "stdout",
          "text": [
            "(253.83999999999997, 0.016000000000005343, 0.9270000000000067)\n",
            "(254.88, 119.912, 30.289)\n"
          ]
        }
      ]
    },
    {
      "cell_type": "markdown",
      "source": [
        "#The code here uses formulas from the following web site\n",
        "\n",
        "https://softpixel.com/~cwright/programming/colorspace/yuv/\n",
        "\n"
      ],
      "metadata": {
        "id": "ae2FTNrPv_Oe"
      }
    },
    {
      "cell_type": "code",
      "source": [
        "def RGB_YUV2(r, g, b):\n",
        "    r2 = np.float64(r)  \n",
        "    g2 = np.float64(g)\n",
        "    b2 = np.float64(b)\n",
        "\n",
        "    y = 0.299*r2 + 0.587*g2 + 0.114*b2\n",
        "    u = - 0.168736*r2 - 0.331264*g2 + 0.5*b2 + 128\n",
        "    v = 0.5*r2 - 0.418688*g2 - 0.0813120*b2 + 128\n",
        "\n",
        "    return y, u, v\n",
        "\n",
        "print(RGB_YUV2(255, 0, 0))\n",
        "print(RGB_YUV2(255, 120, 30))"
      ],
      "metadata": {
        "colab": {
          "base_uri": "https://localhost:8080/"
        },
        "id": "VT1HuDyBvXL4",
        "outputId": "4ad32385-ea12-41f4-cb11-bcc705c8b679"
      },
      "execution_count": null,
      "outputs": [
        {
          "output_type": "stream",
          "name": "stdout",
          "text": [
            "(76.24499999999999, 84.97232, 255.5)\n",
            "(150.105, 60.22064, 202.81808)\n"
          ]
        }
      ]
    },
    {
      "cell_type": "code",
      "source": [
        "def YUV_RGB2(y, u, v):    #YUV TO RGB\n",
        "    y2 = np.float64(y)\n",
        "    u2 = np.float64(u)\n",
        "    v2 = np.float64(v)\n",
        "\n",
        "    r = y2 + 1.4075*(v2-128)\n",
        "    g = y2 -0.3455*(u2-128) - 0.7169*(v2-128)\n",
        "    b = y2 +1.7790*(u2-128)\n",
        "\n",
        "    return r, g, b\n",
        "\n",
        "print (YUV_RGB2(76, 84, 255))\n",
        "print (YUV_RGB2(150, 60, 202))"
      ],
      "metadata": {
        "colab": {
          "base_uri": "https://localhost:8080/"
        },
        "id": "bg7vUN6Y3uxS",
        "outputId": "2231ea6b-3a63-46cb-f625-15119709b81b"
      },
      "execution_count": null,
      "outputs": [
        {
          "output_type": "stream",
          "name": "stdout",
          "text": [
            "(254.7525, 0.15569999999999595, -2.2759999999999962)\n",
            "(254.155, 120.4434, 29.028000000000006)\n"
          ]
        }
      ]
    },
    {
      "cell_type": "markdown",
      "source": [
        "To verify the operation of the code, you can compare it with the converter found at \n",
        "\n",
        "https://www.mikekohn.net/file_formats/yuv_rgb_converter.php"
      ],
      "metadata": {
        "id": "Av4yRjpa5kzm"
      }
    }
  ]
}